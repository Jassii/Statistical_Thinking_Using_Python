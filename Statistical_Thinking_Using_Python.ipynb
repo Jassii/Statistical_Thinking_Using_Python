{
  "nbformat": 4,
  "nbformat_minor": 0,
  "metadata": {
    "colab": {
      "name": "Statistical_Thinking_Using_Python.ipynb",
      "provenance": [],
      "collapsed_sections": [],
      "toc_visible": true,
      "authorship_tag": "ABX9TyNeGFdQhT4gKXDWjPPARMOQ",
      "include_colab_link": true
    },
    "kernelspec": {
      "name": "python3",
      "display_name": "Python 3"
    },
    "language_info": {
      "name": "python"
    }
  },
  "cells": [
    {
      "cell_type": "markdown",
      "metadata": {
        "id": "view-in-github",
        "colab_type": "text"
      },
      "source": [
        "<a href=\"https://colab.research.google.com/github/Jassii/Statistical_Thinking_Using_Python/blob/main/Statistical_Thinking_Using_Python.ipynb\" target=\"_parent\"><img src=\"https://colab.research.google.com/assets/colab-badge.svg\" alt=\"Open In Colab\"/></a>"
      ]
    },
    {
      "cell_type": "markdown",
      "metadata": {
        "id": "gU4-CvKEvVZb"
      },
      "source": [
        "##Understanding about the **Graphical EDA**"
      ]
    },
    {
      "cell_type": "code",
      "metadata": {
        "id": "-1VCpXDoioON"
      },
      "source": [
        "import numpy as np  #for using mathematical functions on matrices..\n",
        "import pandas as pd  #for manipulating data..\n",
        "import matplotlib.pyplot as plt  #for visializing data..\n",
        "plt.style.use('ggplot')"
      ],
      "execution_count": 1,
      "outputs": []
    },
    {
      "cell_type": "code",
      "metadata": {
        "id": "sTKsnqMqizZ5"
      },
      "source": [
        "df = pd.read_csv(r'/content/state.csv')  #loading the data in the form of tubular form.."
      ],
      "execution_count": 2,
      "outputs": []
    },
    {
      "cell_type": "code",
      "metadata": {
        "colab": {
          "base_uri": "https://localhost:8080/",
          "height": 288
        },
        "id": "3iBQtBVkp4eA",
        "outputId": "75c4bfbd-4f2b-4360-b341-aec4a71c810e"
      },
      "source": [
        "df.head(8)  #first 8 rows of the dataset.."
      ],
      "execution_count": 3,
      "outputs": [
        {
          "output_type": "execute_result",
          "data": {
            "text/html": [
              "<div>\n",
              "<style scoped>\n",
              "    .dataframe tbody tr th:only-of-type {\n",
              "        vertical-align: middle;\n",
              "    }\n",
              "\n",
              "    .dataframe tbody tr th {\n",
              "        vertical-align: top;\n",
              "    }\n",
              "\n",
              "    .dataframe thead th {\n",
              "        text-align: right;\n",
              "    }\n",
              "</style>\n",
              "<table border=\"1\" class=\"dataframe\">\n",
              "  <thead>\n",
              "    <tr style=\"text-align: right;\">\n",
              "      <th></th>\n",
              "      <th>state</th>\n",
              "      <th>county</th>\n",
              "      <th>total_votes</th>\n",
              "      <th>dem_votes</th>\n",
              "      <th>rep_votes</th>\n",
              "      <th>dem_share</th>\n",
              "    </tr>\n",
              "  </thead>\n",
              "  <tbody>\n",
              "    <tr>\n",
              "      <th>0</th>\n",
              "      <td>PA</td>\n",
              "      <td>Erie County</td>\n",
              "      <td>127691</td>\n",
              "      <td>75775</td>\n",
              "      <td>50351</td>\n",
              "      <td>60.08</td>\n",
              "    </tr>\n",
              "    <tr>\n",
              "      <th>1</th>\n",
              "      <td>PA</td>\n",
              "      <td>Bradford County</td>\n",
              "      <td>25787</td>\n",
              "      <td>10306</td>\n",
              "      <td>15057</td>\n",
              "      <td>40.64</td>\n",
              "    </tr>\n",
              "    <tr>\n",
              "      <th>2</th>\n",
              "      <td>PA</td>\n",
              "      <td>Tioga County</td>\n",
              "      <td>17984</td>\n",
              "      <td>6390</td>\n",
              "      <td>11326</td>\n",
              "      <td>36.07</td>\n",
              "    </tr>\n",
              "    <tr>\n",
              "      <th>3</th>\n",
              "      <td>PA</td>\n",
              "      <td>McKean County</td>\n",
              "      <td>15947</td>\n",
              "      <td>6465</td>\n",
              "      <td>9224</td>\n",
              "      <td>41.21</td>\n",
              "    </tr>\n",
              "    <tr>\n",
              "      <th>4</th>\n",
              "      <td>PA</td>\n",
              "      <td>Potter County</td>\n",
              "      <td>7507</td>\n",
              "      <td>2300</td>\n",
              "      <td>5109</td>\n",
              "      <td>31.04</td>\n",
              "    </tr>\n",
              "    <tr>\n",
              "      <th>5</th>\n",
              "      <td>PA</td>\n",
              "      <td>Wayne County</td>\n",
              "      <td>22835</td>\n",
              "      <td>9892</td>\n",
              "      <td>12702</td>\n",
              "      <td>43.78</td>\n",
              "    </tr>\n",
              "    <tr>\n",
              "      <th>6</th>\n",
              "      <td>PA</td>\n",
              "      <td>Susquehanna County</td>\n",
              "      <td>19286</td>\n",
              "      <td>8381</td>\n",
              "      <td>10633</td>\n",
              "      <td>44.08</td>\n",
              "    </tr>\n",
              "    <tr>\n",
              "      <th>7</th>\n",
              "      <td>PA</td>\n",
              "      <td>Warren County</td>\n",
              "      <td>18517</td>\n",
              "      <td>8537</td>\n",
              "      <td>9685</td>\n",
              "      <td>46.85</td>\n",
              "    </tr>\n",
              "  </tbody>\n",
              "</table>\n",
              "</div>"
            ],
            "text/plain": [
              "  state              county  total_votes  dem_votes  rep_votes  dem_share\n",
              "0    PA         Erie County       127691      75775      50351      60.08\n",
              "1    PA     Bradford County        25787      10306      15057      40.64\n",
              "2    PA        Tioga County        17984       6390      11326      36.07\n",
              "3    PA       McKean County        15947       6465       9224      41.21\n",
              "4    PA       Potter County         7507       2300       5109      31.04\n",
              "5    PA        Wayne County        22835       9892      12702      43.78\n",
              "6    PA  Susquehanna County        19286       8381      10633      44.08\n",
              "7    PA       Warren County        18517       8537       9685      46.85"
            ]
          },
          "metadata": {
            "tags": []
          },
          "execution_count": 3
        }
      ]
    },
    {
      "cell_type": "code",
      "metadata": {
        "colab": {
          "base_uri": "https://localhost:8080/",
          "height": 288
        },
        "id": "n87EHwVCrVi3",
        "outputId": "72f967c9-e4c4-4820-b182-c307cd94c88a"
      },
      "source": [
        "df[['state','county','dem_share']].head(8)  #only want to see these 3 columns"
      ],
      "execution_count": 4,
      "outputs": [
        {
          "output_type": "execute_result",
          "data": {
            "text/html": [
              "<div>\n",
              "<style scoped>\n",
              "    .dataframe tbody tr th:only-of-type {\n",
              "        vertical-align: middle;\n",
              "    }\n",
              "\n",
              "    .dataframe tbody tr th {\n",
              "        vertical-align: top;\n",
              "    }\n",
              "\n",
              "    .dataframe thead th {\n",
              "        text-align: right;\n",
              "    }\n",
              "</style>\n",
              "<table border=\"1\" class=\"dataframe\">\n",
              "  <thead>\n",
              "    <tr style=\"text-align: right;\">\n",
              "      <th></th>\n",
              "      <th>state</th>\n",
              "      <th>county</th>\n",
              "      <th>dem_share</th>\n",
              "    </tr>\n",
              "  </thead>\n",
              "  <tbody>\n",
              "    <tr>\n",
              "      <th>0</th>\n",
              "      <td>PA</td>\n",
              "      <td>Erie County</td>\n",
              "      <td>60.08</td>\n",
              "    </tr>\n",
              "    <tr>\n",
              "      <th>1</th>\n",
              "      <td>PA</td>\n",
              "      <td>Bradford County</td>\n",
              "      <td>40.64</td>\n",
              "    </tr>\n",
              "    <tr>\n",
              "      <th>2</th>\n",
              "      <td>PA</td>\n",
              "      <td>Tioga County</td>\n",
              "      <td>36.07</td>\n",
              "    </tr>\n",
              "    <tr>\n",
              "      <th>3</th>\n",
              "      <td>PA</td>\n",
              "      <td>McKean County</td>\n",
              "      <td>41.21</td>\n",
              "    </tr>\n",
              "    <tr>\n",
              "      <th>4</th>\n",
              "      <td>PA</td>\n",
              "      <td>Potter County</td>\n",
              "      <td>31.04</td>\n",
              "    </tr>\n",
              "    <tr>\n",
              "      <th>5</th>\n",
              "      <td>PA</td>\n",
              "      <td>Wayne County</td>\n",
              "      <td>43.78</td>\n",
              "    </tr>\n",
              "    <tr>\n",
              "      <th>6</th>\n",
              "      <td>PA</td>\n",
              "      <td>Susquehanna County</td>\n",
              "      <td>44.08</td>\n",
              "    </tr>\n",
              "    <tr>\n",
              "      <th>7</th>\n",
              "      <td>PA</td>\n",
              "      <td>Warren County</td>\n",
              "      <td>46.85</td>\n",
              "    </tr>\n",
              "  </tbody>\n",
              "</table>\n",
              "</div>"
            ],
            "text/plain": [
              "  state              county  dem_share\n",
              "0    PA         Erie County      60.08\n",
              "1    PA     Bradford County      40.64\n",
              "2    PA        Tioga County      36.07\n",
              "3    PA       McKean County      41.21\n",
              "4    PA       Potter County      31.04\n",
              "5    PA        Wayne County      43.78\n",
              "6    PA  Susquehanna County      44.08\n",
              "7    PA       Warren County      46.85"
            ]
          },
          "metadata": {
            "tags": []
          },
          "execution_count": 4
        }
      ]
    },
    {
      "cell_type": "markdown",
      "metadata": {
        "id": "a2EhBhNEuRmb"
      },
      "source": [
        "##**Plotting the above dataset in the form of Histogram**"
      ]
    },
    {
      "cell_type": "code",
      "metadata": {
        "colab": {
          "base_uri": "https://localhost:8080/",
          "height": 282
        },
        "id": "RC9N1eyhrZcM",
        "outputId": "5ee36dd5-c0b0-4411-be35-def07c79e3a6"
      },
      "source": [
        "plt.hist(df['dem_share'])  #plt.hist() function is used \n",
        "                           #inorder to plot the dataset in the form of histogram..\n",
        "plt.xlabel('percent of vote for obama')  #putting x label..\n",
        "plt.ylabel('number of counties') #putting y label..\n",
        "plt.show()  #Showing the histogram chart"
      ],
      "execution_count": 5,
      "outputs": [
        {
          "output_type": "display_data",
          "data": {
            "image/png": "[encoded data removed]",
            "text/plain": [
              "<Figure size 432x288 with 1 Axes>"
            ]
          },
          "metadata": {
            "tags": [],
            "needs_background": "light"
          }
        }
      ]
    },
    {
      "cell_type": "markdown",
      "metadata": {
        "id": "WXa675BfvL7p"
      },
      "source": [
        "**Remember** - *Always label your axes*"
      ]
    },
    {
      "cell_type": "markdown",
      "metadata": {
        "id": "YCWCn67wvpys"
      },
      "source": [
        "##Setting the bins of the histogram"
      ]
    },
    {
      "cell_type": "code",
      "metadata": {
        "colab": {
          "base_uri": "https://localhost:8080/",
          "height": 282
        },
        "id": "Xdwlv4rEubaS",
        "outputId": "ddd25ca6-4d00-4a43-f576-bf76c1c0467b"
      },
      "source": [
        "bin_edge = np.arange(0,100,10)  #making an array from 0 to 100 with step of 10..\n",
        "plt.hist(df['dem_share'],bins=bin_edge)  #plotting the histogram..\n",
        "plt.xlabel('percent of vote for obama')\n",
        "plt.ylabel('Number of counties')\n",
        "plt.show()  #Display of the chart.."
      ],
      "execution_count": 6,
      "outputs": [
        {
          "output_type": "display_data",
          "data": {
            "image/png": "[encoded data removed]",
            "text/plain": [
              "<Figure size 432x288 with 1 Axes>"
            ]
          },
          "metadata": {
            "tags": [],
            "needs_background": "light"
          }
        }
      ]
    },
    {
      "cell_type": "code",
      "metadata": {
        "colab": {
          "base_uri": "https://localhost:8080/",
          "height": 282
        },
        "id": "qSSwFIq4v8-E",
        "outputId": "352ab25b-4f70-45b3-a363-d932a3f7a259"
      },
      "source": [
        "#You can also assign a number to the bins..(20)\n",
        "plt.hist(df['dem_share'],bins=20)  #plotting the histogram..\n",
        "#It will generate 20 evenly spaced bins..\n",
        "\n",
        "plt.xlabel('percent of vote for obama')\n",
        "plt.ylabel('Number of counties')\n",
        "plt.show()  #Display of the chart.."
      ],
      "execution_count": 7,
      "outputs": [
        {
          "output_type": "display_data",
          "data": {
            "image/png": "[encoded data removed]",
            "text/plain": [
              "<Figure size 432x288 with 1 Axes>"
            ]
          },
          "metadata": {
            "tags": [],
            "needs_background": "light"
          }
        }
      ]
    },
    {
      "cell_type": "markdown",
      "metadata": {
        "id": "FobuHCI-xNem"
      },
      "source": [
        "##You can also prefer **seaborn** as the matplotlib based statistical data visualization package"
      ]
    },
    {
      "cell_type": "code",
      "metadata": {
        "colab": {
          "base_uri": "https://localhost:8080/",
          "height": 285
        },
        "id": "tUyDBw1swqE5",
        "outputId": "9aa4728e-63ca-4c6a-9c73-27cbebee0cd4"
      },
      "source": [
        "import seaborn as sb    #With just importing the seaborn..You can see the difference from\n",
        "#the above diagram..It looks more understandable..\n",
        "\n",
        "sb.set()  #to specify the default seaborn style..\n",
        "plt.hist(df['dem_share'])  #taking only one column..\n",
        "plt.xlabel('percent of votes for obama')\n",
        "plt.ylabel('number of counties')\n",
        "plt.show()"
      ],
      "execution_count": 8,
      "outputs": [
        {
          "output_type": "display_data",
          "data": {
            "image/png": "[encoded data removed]",
            "text/plain": [
              "<Figure size 432x288 with 1 Axes>"
            ]
          },
          "metadata": {
            "tags": []
          }
        }
      ]
    },
    {
      "cell_type": "markdown",
      "metadata": {
        "id": "d4fR5dF1g21X"
      },
      "source": [
        "#Generating the above data set in the form of **Bee swarm plot** "
      ]
    },
    {
      "cell_type": "code",
      "metadata": {
        "id": "mbpfngr1xboz",
        "colab": {
          "base_uri": "https://localhost:8080/",
          "height": 285
        },
        "outputId": "8c807e77-25b6-483f-d798-ce0b98cd1a2d"
      },
      "source": [
        "sb.swarmplot(data=df,x='state',y='dem_share'); #Using swarmplot function(This is)\n",
        "#done inorder to remove biasing bins...(with the different bins value chart was coming different)\n",
        "plt.xlabel('state')  #labeling the x-axis\n",
        "plt.ylabel('precent vote for obama')  #labeling the y-axis..\n",
        "plt.show()"
      ],
      "execution_count": 9,
      "outputs": [
        {
          "output_type": "display_data",
          "data": {
            "image/png": "[encoded data removed]",
            "text/plain": [
              "<Figure size 432x288 with 1 Axes>"
            ]
          },
          "metadata": {
            "tags": []
          }
        }
      ]
    },
    {
      "cell_type": "markdown",
      "metadata": {
        "id": "71fW6Mnflfnz"
      },
      "source": [
        "##Now we will be looking at **Empirical Cumulative Distribution Function (ECDF)** "
      ]
    },
    {
      "cell_type": "markdown",
      "metadata": {
        "id": "Guf_iAw9lxs7"
      },
      "source": [
        "In this our x data should be sorted..so that we will using numpy sort function inorder to sort the data at the x axis.."
      ]
    },
    {
      "cell_type": "code",
      "metadata": {
        "id": "CxYyJP1Vxn_-"
      },
      "source": [
        "newx = np.sort(df['dem_share'])  #sorted the dem_share and stored in the newx variable..\n",
        "#y is evenly spaced data point with the maximum length of 1.\n",
        "y = np.arange(1,len(newx)+1/len(newx)) #value of y is starting from 1.."
      ],
      "execution_count": 10,
      "outputs": []
    },
    {
      "cell_type": "code",
      "metadata": {
        "colab": {
          "base_uri": "https://localhost:8080/",
          "height": 285
        },
        "id": "fvcMEuQVmBbt",
        "outputId": "bd3b797a-5613-479c-d820-d07971742906"
      },
      "source": [
        "#Now we plot the points..\n",
        "plt.plot(newx,y,marker='.',linestyle='none');\n",
        "plt.xlabel('percent of vote for obama')\n",
        "plt.ylabel('ECDF')\n",
        "\n",
        "plt.margins(0.02)\n",
        "plt.show()"
      ],
      "execution_count": 11,
      "outputs": [
        {
          "output_type": "display_data",
          "data": {
            "image/png": "[encoded data removed]",
            "text/plain": [
              "<Figure size 432x288 with 1 Axes>"
            ]
          },
          "metadata": {
            "tags": []
          }
        }
      ]
    },
    {
      "cell_type": "markdown",
      "metadata": {
        "id": "QD0S5ZXVsKXO"
      },
      "source": [
        "##Understanding of the **BoxPlot**"
      ]
    },
    {
      "cell_type": "markdown",
      "metadata": {
        "id": "Tcv50T02sQO8"
      },
      "source": [
        "same as swarmplot\n"
      ]
    },
    {
      "cell_type": "code",
      "metadata": {
        "id": "K69GzSxrm2jn",
        "colab": {
          "base_uri": "https://localhost:8080/",
          "height": 285
        },
        "outputId": "5a8b90e8-8087-4be6-b3db-5e511551dbde"
      },
      "source": [
        "# Create box plot with Seaborn's default settings\n",
        "sb.boxplot(data=df,x='state',y='dem_share')\n",
        "\n",
        "# Label the axes\n",
        "plt.xlabel('region')\n",
        "plt.ylabel('percent of vote for Obama')\n",
        "\n",
        "\n",
        "# Show the plot\n",
        "plt.show()\n"
      ],
      "execution_count": 12,
      "outputs": [
        {
          "output_type": "display_data",
          "data": {
            "image/png": "[encoded data removed]",
            "text/plain": [
              "<Figure size 432x288 with 1 Axes>"
            ]
          },
          "metadata": {
            "tags": []
          }
        }
      ]
    },
    {
      "cell_type": "markdown",
      "metadata": {
        "id": "iHDedJ6XSnGT"
      },
      "source": [
        "##Simulating 4 coin flips using **np.random.random()**"
      ]
    },
    {
      "cell_type": "code",
      "metadata": {
        "id": "mVsX-9QhslgU",
        "colab": {
          "base_uri": "https://localhost:8080/"
        },
        "outputId": "19b1dfd1-9feb-48a9-bc4a-2897ca188c07"
      },
      "source": [
        "np.random.seed(42)\n",
        "random_num = np.random.random(size=4)\n",
        "random_num"
      ],
      "execution_count": 13,
      "outputs": [
        {
          "output_type": "execute_result",
          "data": {
            "text/plain": [
              "array([0.37454012, 0.95071431, 0.73199394, 0.59865848])"
            ]
          },
          "metadata": {
            "tags": []
          },
          "execution_count": 13
        }
      ]
    },
    {
      "cell_type": "code",
      "metadata": {
        "id": "j2rvc-G67Mb1",
        "colab": {
          "base_uri": "https://localhost:8080/"
        },
        "outputId": "261a48ca-149e-40f1-f76b-a78b57947a86"
      },
      "source": [
        "heads = random_num<0.5  #which of them can be heads..\n",
        "heads  #printing the array telling about the heads or tails.."
      ],
      "execution_count": 15,
      "outputs": [
        {
          "output_type": "execute_result",
          "data": {
            "text/plain": [
              "array([ True, False, False, False])"
            ]
          },
          "metadata": {
            "tags": []
          },
          "execution_count": 15
        }
      ]
    },
    {
      "cell_type": "code",
      "metadata": {
        "colab": {
          "base_uri": "https://localhost:8080/"
        },
        "id": "dn0GSqpNTaD1",
        "outputId": "b5674036-53ce-4ff0-84a7-9b126f7df176"
      },
      "source": [
        "np.sum(heads)  #How many heads can be there in four flips..\n",
        "#Python treats 1 as True and 0 as False.."
      ],
      "execution_count": 16,
      "outputs": [
        {
          "output_type": "execute_result",
          "data": {
            "text/plain": [
              "1"
            ]
          },
          "metadata": {
            "tags": []
          },
          "execution_count": 16
        }
      ]
    },
    {
      "cell_type": "markdown",
      "metadata": {
        "id": "_HomasIxbQz2"
      },
      "source": [
        "##**Binomial Distribution Mass Function**"
      ]
    },
    {
      "cell_type": "code",
      "metadata": {
        "colab": {
          "base_uri": "https://localhost:8080/"
        },
        "id": "GnJOrtyZTfBK",
        "outputId": "d3b884c6-975a-43bd-9d08-beaed20a10e5"
      },
      "source": [
        "np.random.binomial(4,0.5)"
      ],
      "execution_count": 17,
      "outputs": [
        {
          "output_type": "execute_result",
          "data": {
            "text/plain": [
              "1"
            ]
          },
          "metadata": {
            "tags": []
          },
          "execution_count": 17
        }
      ]
    },
    {
      "cell_type": "code",
      "metadata": {
        "colab": {
          "base_uri": "https://localhost:8080/"
        },
        "id": "2HEYmeoNbZXJ",
        "outputId": "3b18ec2e-d3b3-47d6-c1cc-36843847c39e"
      },
      "source": [
        "sample = np.random.binomial(60,0.1,size=10000)"
      ],
      "execution_count": 18,
      "outputs": [
        {
          "output_type": "execute_result",
          "data": {
            "text/plain": [
              "array([4, 3, 9, ..., 4, 7, 6])"
            ]
          },
          "metadata": {
            "tags": []
          },
          "execution_count": 18
        }
      ]
    },
    {
      "cell_type": "code",
      "metadata": {
        "id": "KiI62WOgbhka"
      },
      "source": [
        ""
      ],
      "execution_count": null,
      "outputs": []
    }
  ]
}