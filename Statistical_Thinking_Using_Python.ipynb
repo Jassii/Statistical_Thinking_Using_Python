{
  "nbformat": 4,
  "nbformat_minor": 0,
  "metadata": {
    "colab": {
      "name": "Statistical_Thinking_Using_Python.ipynb",
      "provenance": [],
      "collapsed_sections": [],
      "toc_visible": true,
      "include_colab_link": true
    },
    "kernelspec": {
      "name": "python3",
      "display_name": "Python 3"
    },
    "language_info": {
      "name": "python"
    }
  },
  "cells": [
    {
      "cell_type": "markdown",
      "metadata": {
        "id": "view-in-github",
        "colab_type": "text"
      },
      "source": [
        "<a href=\"https://colab.research.google.com/github/Jassii/Statistical_Thinking_Using_Python/blob/main/Statistical_Thinking_Using_Python.ipynb\" target=\"_parent\"><img src=\"https://colab.research.google.com/assets/colab-badge.svg\" alt=\"Open In Colab\"/></a>"
      ]
    },
    {
      "cell_type": "markdown",
      "metadata": {
        "id": "gU4-CvKEvVZb"
      },
      "source": [
        "##Understanding about the **Graphical EDA**"
      ]
    },
    {
      "cell_type": "code",
      "metadata": {
        "id": "-1VCpXDoioON"
      },
      "source": [
        "import numpy as np  #for using mathematical functions on matrices..\n",
        "import pandas as pd  #for manipulating data..\n",
        "import matplotlib.pyplot as plt  #for visializing data..\n",
        "plt.style.use('ggplot')"
      ],
      "execution_count": 11,
      "outputs": []
    },
    {
      "cell_type": "code",
      "metadata": {
        "id": "sTKsnqMqizZ5"
      },
      "source": [
        "df = pd.read_csv(r'/content/state.csv')  #loading the data in the form of tubular form.."
      ],
      "execution_count": 12,
      "outputs": []
    },
    {
      "cell_type": "code",
      "metadata": {
        "colab": {
          "base_uri": "https://localhost:8080/",
          "height": 288
        },
        "id": "3iBQtBVkp4eA",
        "outputId": "e21c1cc9-f20c-4212-cf57-e09e9b6639cb"
      },
      "source": [
        "df.head(8)  #first 8 rows of the dataset.."
      ],
      "execution_count": 13,
      "outputs": [
        {
          "output_type": "execute_result",
          "data": {
            "text/html": [
              "<div>\n",
              "<style scoped>\n",
              "    .dataframe tbody tr th:only-of-type {\n",
              "        vertical-align: middle;\n",
              "    }\n",
              "\n",
              "    .dataframe tbody tr th {\n",
              "        vertical-align: top;\n",
              "    }\n",
              "\n",
              "    .dataframe thead th {\n",
              "        text-align: right;\n",
              "    }\n",
              "</style>\n",
              "<table border=\"1\" class=\"dataframe\">\n",
              "  <thead>\n",
              "    <tr style=\"text-align: right;\">\n",
              "      <th></th>\n",
              "      <th>state</th>\n",
              "      <th>county</th>\n",
              "      <th>total_votes</th>\n",
              "      <th>dem_votes</th>\n",
              "      <th>rep_votes</th>\n",
              "      <th>dem_share</th>\n",
              "    </tr>\n",
              "  </thead>\n",
              "  <tbody>\n",
              "    <tr>\n",
              "      <th>0</th>\n",
              "      <td>PA</td>\n",
              "      <td>Erie County</td>\n",
              "      <td>127691</td>\n",
              "      <td>75775</td>\n",
              "      <td>50351</td>\n",
              "      <td>60.08</td>\n",
              "    </tr>\n",
              "    <tr>\n",
              "      <th>1</th>\n",
              "      <td>PA</td>\n",
              "      <td>Bradford County</td>\n",
              "      <td>25787</td>\n",
              "      <td>10306</td>\n",
              "      <td>15057</td>\n",
              "      <td>40.64</td>\n",
              "    </tr>\n",
              "    <tr>\n",
              "      <th>2</th>\n",
              "      <td>PA</td>\n",
              "      <td>Tioga County</td>\n",
              "      <td>17984</td>\n",
              "      <td>6390</td>\n",
              "      <td>11326</td>\n",
              "      <td>36.07</td>\n",
              "    </tr>\n",
              "    <tr>\n",
              "      <th>3</th>\n",
              "      <td>PA</td>\n",
              "      <td>McKean County</td>\n",
              "      <td>15947</td>\n",
              "      <td>6465</td>\n",
              "      <td>9224</td>\n",
              "      <td>41.21</td>\n",
              "    </tr>\n",
              "    <tr>\n",
              "      <th>4</th>\n",
              "      <td>PA</td>\n",
              "      <td>Potter County</td>\n",
              "      <td>7507</td>\n",
              "      <td>2300</td>\n",
              "      <td>5109</td>\n",
              "      <td>31.04</td>\n",
              "    </tr>\n",
              "    <tr>\n",
              "      <th>5</th>\n",
              "      <td>PA</td>\n",
              "      <td>Wayne County</td>\n",
              "      <td>22835</td>\n",
              "      <td>9892</td>\n",
              "      <td>12702</td>\n",
              "      <td>43.78</td>\n",
              "    </tr>\n",
              "    <tr>\n",
              "      <th>6</th>\n",
              "      <td>PA</td>\n",
              "      <td>Susquehanna County</td>\n",
              "      <td>19286</td>\n",
              "      <td>8381</td>\n",
              "      <td>10633</td>\n",
              "      <td>44.08</td>\n",
              "    </tr>\n",
              "    <tr>\n",
              "      <th>7</th>\n",
              "      <td>PA</td>\n",
              "      <td>Warren County</td>\n",
              "      <td>18517</td>\n",
              "      <td>8537</td>\n",
              "      <td>9685</td>\n",
              "      <td>46.85</td>\n",
              "    </tr>\n",
              "  </tbody>\n",
              "</table>\n",
              "</div>"
            ],
            "text/plain": [
              "  state              county  total_votes  dem_votes  rep_votes  dem_share\n",
              "0    PA         Erie County       127691      75775      50351      60.08\n",
              "1    PA     Bradford County        25787      10306      15057      40.64\n",
              "2    PA        Tioga County        17984       6390      11326      36.07\n",
              "3    PA       McKean County        15947       6465       9224      41.21\n",
              "4    PA       Potter County         7507       2300       5109      31.04\n",
              "5    PA        Wayne County        22835       9892      12702      43.78\n",
              "6    PA  Susquehanna County        19286       8381      10633      44.08\n",
              "7    PA       Warren County        18517       8537       9685      46.85"
            ]
          },
          "metadata": {
            "tags": []
          },
          "execution_count": 13
        }
      ]
    },
    {
      "cell_type": "code",
      "metadata": {
        "colab": {
          "base_uri": "https://localhost:8080/",
          "height": 288
        },
        "id": "n87EHwVCrVi3",
        "outputId": "0471a447-3f9e-40c7-e83a-66e76bbd21b4"
      },
      "source": [
        "df[['state','county','dem_share']].head(8)  #only want to see these 3 columns"
      ],
      "execution_count": 14,
      "outputs": [
        {
          "output_type": "execute_result",
          "data": {
            "text/html": [
              "<div>\n",
              "<style scoped>\n",
              "    .dataframe tbody tr th:only-of-type {\n",
              "        vertical-align: middle;\n",
              "    }\n",
              "\n",
              "    .dataframe tbody tr th {\n",
              "        vertical-align: top;\n",
              "    }\n",
              "\n",
              "    .dataframe thead th {\n",
              "        text-align: right;\n",
              "    }\n",
              "</style>\n",
              "<table border=\"1\" class=\"dataframe\">\n",
              "  <thead>\n",
              "    <tr style=\"text-align: right;\">\n",
              "      <th></th>\n",
              "      <th>state</th>\n",
              "      <th>county</th>\n",
              "      <th>dem_share</th>\n",
              "    </tr>\n",
              "  </thead>\n",
              "  <tbody>\n",
              "    <tr>\n",
              "      <th>0</th>\n",
              "      <td>PA</td>\n",
              "      <td>Erie County</td>\n",
              "      <td>60.08</td>\n",
              "    </tr>\n",
              "    <tr>\n",
              "      <th>1</th>\n",
              "      <td>PA</td>\n",
              "      <td>Bradford County</td>\n",
              "      <td>40.64</td>\n",
              "    </tr>\n",
              "    <tr>\n",
              "      <th>2</th>\n",
              "      <td>PA</td>\n",
              "      <td>Tioga County</td>\n",
              "      <td>36.07</td>\n",
              "    </tr>\n",
              "    <tr>\n",
              "      <th>3</th>\n",
              "      <td>PA</td>\n",
              "      <td>McKean County</td>\n",
              "      <td>41.21</td>\n",
              "    </tr>\n",
              "    <tr>\n",
              "      <th>4</th>\n",
              "      <td>PA</td>\n",
              "      <td>Potter County</td>\n",
              "      <td>31.04</td>\n",
              "    </tr>\n",
              "    <tr>\n",
              "      <th>5</th>\n",
              "      <td>PA</td>\n",
              "      <td>Wayne County</td>\n",
              "      <td>43.78</td>\n",
              "    </tr>\n",
              "    <tr>\n",
              "      <th>6</th>\n",
              "      <td>PA</td>\n",
              "      <td>Susquehanna County</td>\n",
              "      <td>44.08</td>\n",
              "    </tr>\n",
              "    <tr>\n",
              "      <th>7</th>\n",
              "      <td>PA</td>\n",
              "      <td>Warren County</td>\n",
              "      <td>46.85</td>\n",
              "    </tr>\n",
              "  </tbody>\n",
              "</table>\n",
              "</div>"
            ],
            "text/plain": [
              "  state              county  dem_share\n",
              "0    PA         Erie County      60.08\n",
              "1    PA     Bradford County      40.64\n",
              "2    PA        Tioga County      36.07\n",
              "3    PA       McKean County      41.21\n",
              "4    PA       Potter County      31.04\n",
              "5    PA        Wayne County      43.78\n",
              "6    PA  Susquehanna County      44.08\n",
              "7    PA       Warren County      46.85"
            ]
          },
          "metadata": {
            "tags": []
          },
          "execution_count": 14
        }
      ]
    },
    {
      "cell_type": "markdown",
      "metadata": {
        "id": "a2EhBhNEuRmb"
      },
      "source": [
        "##**Plotting the above dataset in the form of Histogram**"
      ]
    },
    {
      "cell_type": "code",
      "metadata": {
        "colab": {
          "base_uri": "https://localhost:8080/",
          "height": 282
        },
        "id": "RC9N1eyhrZcM",
        "outputId": "9ce52ce6-ceea-4513-a093-eb3f8e230492"
      },
      "source": [
        "plt.hist(df['dem_share'])  #plt.hist() function is used \n",
        "                           #inorder to plot the dataset in the form of histogram..\n",
        "plt.xlabel('percent of vote for obama')  #putting x label..\n",
        "plt.ylabel('number of counties') #putting y label..\n",
        "plt.show()  #Showing the histogram chart"
      ],
      "execution_count": 15,
      "outputs": [
        {
          "output_type": "display_data",
          "data": {
            "image/png": "[encoded data removed]",
            "text/plain": [
              "<Figure size 432x288 with 1 Axes>"
            ]
          },
          "metadata": {
            "tags": []
          }
        }
      ]
    },
    {
      "cell_type": "markdown",
      "metadata": {
        "id": "WXa675BfvL7p"
      },
      "source": [
        "**Remember** - *Always label your axes*"
      ]
    },
    {
      "cell_type": "markdown",
      "metadata": {
        "id": "YCWCn67wvpys"
      },
      "source": [
        "##Setting the bins of the histogram"
      ]
    },
    {
      "cell_type": "code",
      "metadata": {
        "colab": {
          "base_uri": "https://localhost:8080/",
          "height": 282
        },
        "id": "Xdwlv4rEubaS",
        "outputId": "c8c10ccb-74db-4374-c837-ec06628e1ccf"
      },
      "source": [
        "bin_edge = np.arange(0,100,10)  #making an array from 0 to 100 with step of 10..\n",
        "plt.hist(df['dem_share'],bins=bin_edge)  #plotting the histogram..\n",
        "plt.xlabel('percent of vote for obama')\n",
        "plt.ylabel('Number of counties')\n",
        "plt.show()  #Display of the chart.."
      ],
      "execution_count": 16,
      "outputs": [
        {
          "output_type": "display_data",
          "data": {
            "image/png": "[encoded data removed]",
            "text/plain": [
              "<Figure size 432x288 with 1 Axes>"
            ]
          },
          "metadata": {
            "tags": []
          }
        }
      ]
    },
    {
      "cell_type": "code",
      "metadata": {
        "colab": {
          "base_uri": "https://localhost:8080/",
          "height": 282
        },
        "id": "qSSwFIq4v8-E",
        "outputId": "eab8ebe0-a4b1-445a-f966-8767bc75a931"
      },
      "source": [
        "#You can also assign a number to the bins..(20)\n",
        "plt.hist(df['dem_share'],bins=20)  #plotting the histogram..\n",
        "#It will generate 20 evenly spaced bins..\n",
        "\n",
        "plt.xlabel('percent of vote for obama')\n",
        "plt.ylabel('Number of counties')\n",
        "plt.show()  #Display of the chart.."
      ],
      "execution_count": 17,
      "outputs": [
        {
          "output_type": "display_data",
          "data": {
            "image/png": "[encoded data removed]",
            "text/plain": [
              "<Figure size 432x288 with 1 Axes>"
            ]
          },
          "metadata": {
            "tags": []
          }
        }
      ]
    },
    {
      "cell_type": "markdown",
      "metadata": {
        "id": "FobuHCI-xNem"
      },
      "source": [
        "##You can also prefer **seaborn** as the matplotlib based statistical data visualization package"
      ]
    },
    {
      "cell_type": "code",
      "metadata": {
        "colab": {
          "base_uri": "https://localhost:8080/",
          "height": 285
        },
        "id": "tUyDBw1swqE5",
        "outputId": "979655c3-bf9a-4af8-99dd-3399b85f85d2"
      },
      "source": [
        "import seaborn as sb    #With just importing the seaborn..You can see the difference from\n",
        "#the above diagram..It looks more understandable..\n",
        "\n",
        "sb.set()  #to specify the default seaborn style..\n",
        "plt.hist(df['dem_share'])  #taking only one column..\n",
        "plt.xlabel('percent of votes for obama')\n",
        "plt.ylabel('number of counties')\n",
        "plt.show()"
      ],
      "execution_count": 18,
      "outputs": [
        {
          "output_type": "display_data",
          "data": {
            "image/png": "[encoded data removed]",
            "text/plain": [
              "<Figure size 432x288 with 1 Axes>"
            ]
          },
          "metadata": {
            "tags": []
          }
        }
      ]
    },
    {
      "cell_type": "markdown",
      "metadata": {
        "id": "d4fR5dF1g21X"
      },
      "source": [
        "#Generating the above data set in the form of **Bee swarm plot** "
      ]
    },
    {
      "cell_type": "code",
      "metadata": {
        "id": "mbpfngr1xboz",
        "colab": {
          "base_uri": "https://localhost:8080/",
          "height": 285
        },
        "outputId": "14009dd2-ad03-4c0a-aabb-cb8a109d3dbe"
      },
      "source": [
        "sb.swarmplot(data=df,x='state',y='dem_share'); #Using swarmplot function(This is)\n",
        "#done inorder to remove biasing bins...(with the different bins value chart was coming different)\n",
        "plt.xlabel('state')  #labeling the x-axis\n",
        "plt.ylabel('precent vote for obama')  #labeling the y-axis..\n",
        "plt.show()"
      ],
      "execution_count": 19,
      "outputs": [
        {
          "output_type": "display_data",
          "data": {
            "image/png": "[encoded data removed]",
            "text/plain": [
              "<Figure size 432x288 with 1 Axes>"
            ]
          },
          "metadata": {
            "tags": []
          }
        }
      ]
    },
    {
      "cell_type": "markdown",
      "metadata": {
        "id": "71fW6Mnflfnz"
      },
      "source": [
        "##Now we will be looking at **Empirical Cumulative Distribution Function (ECDF)** "
      ]
    },
    {
      "cell_type": "markdown",
      "metadata": {
        "id": "Guf_iAw9lxs7"
      },
      "source": [
        "In this our x data should be sorted..so that we will using numpy sort function inorder to sort the data at the x axis.."
      ]
    },
    {
      "cell_type": "code",
      "metadata": {
        "id": "CxYyJP1Vxn_-"
      },
      "source": [
        "newx = np.sort(df['dem_share'])  #sorted the dem_share and stored in the newx variable..\n",
        "#y is evenly spaced data point with the maximum length of 1.\n",
        "y = np.arange(1,len(newx)+1/len(newx)) #value of y is starting from 1.."
      ],
      "execution_count": 20,
      "outputs": []
    },
    {
      "cell_type": "code",
      "metadata": {
        "colab": {
          "base_uri": "https://localhost:8080/",
          "height": 285
        },
        "id": "fvcMEuQVmBbt",
        "outputId": "1a3adf43-ee43-4739-9dc0-ea90d85bb4f8"
      },
      "source": [
        "#Now we plot the points..\n",
        "plt.plot(newx,y,marker='.',linestyle='none');\n",
        "plt.xlabel('percent of vote for obama')\n",
        "plt.ylabel('ECDF')\n",
        "\n",
        "plt.margins(0.02)\n",
        "plt.show()"
      ],
      "execution_count": 21,
      "outputs": [
        {
          "output_type": "display_data",
          "data": {
            "image/png": "[encoded data removed]",
            "text/plain": [
              "<Figure size 432x288 with 1 Axes>"
            ]
          },
          "metadata": {
            "tags": []
          }
        }
      ]
    },
    {
      "cell_type": "markdown",
      "metadata": {
        "id": "QD0S5ZXVsKXO"
      },
      "source": [
        "##Understanding of the **BoxPlot**"
      ]
    },
    {
      "cell_type": "markdown",
      "metadata": {
        "id": "Tcv50T02sQO8"
      },
      "source": [
        "same as swarmplot\n"
      ]
    },
    {
      "cell_type": "code",
      "metadata": {
        "id": "K69GzSxrm2jn",
        "colab": {
          "base_uri": "https://localhost:8080/",
          "height": 285
        },
        "outputId": "24c3ac89-66c5-4c4f-e266-dcb0f8f73758"
      },
      "source": [
        "# Create box plot with Seaborn's default settings\n",
        "sb.boxplot(data=df,x='state',y='dem_share')\n",
        "\n",
        "# Label the axes\n",
        "plt.xlabel('region')\n",
        "plt.ylabel('percent of vote for Obama')\n",
        "\n",
        "\n",
        "# Show the plot\n",
        "plt.show()\n"
      ],
      "execution_count": 22,
      "outputs": [
        {
          "output_type": "display_data",
          "data": {
            "image/png": "[encoded data removed]",
            "text/plain": [
              "<Figure size 432x288 with 1 Axes>"
            ]
          },
          "metadata": {
            "tags": []
          }
        }
      ]
    },
    {
      "cell_type": "markdown",
      "metadata": {
        "id": "iHDedJ6XSnGT"
      },
      "source": [
        "##Simulating 4 coin flips using **np.random.random()**"
      ]
    },
    {
      "cell_type": "code",
      "metadata": {
        "id": "mVsX-9QhslgU",
        "colab": {
          "base_uri": "https://localhost:8080/"
        },
        "outputId": "33fd8988-42b1-4044-d3e0-790441dbeca5"
      },
      "source": [
        "np.random.seed(42)\n",
        "random_num = np.random.random(size=4)\n",
        "random_num"
      ],
      "execution_count": 23,
      "outputs": [
        {
          "output_type": "execute_result",
          "data": {
            "text/plain": [
              "array([0.37454012, 0.95071431, 0.73199394, 0.59865848])"
            ]
          },
          "metadata": {
            "tags": []
          },
          "execution_count": 23
        }
      ]
    },
    {
      "cell_type": "code",
      "metadata": {
        "id": "j2rvc-G67Mb1",
        "colab": {
          "base_uri": "https://localhost:8080/"
        },
        "outputId": "890631cb-db27-48bc-ed24-dca9c2ec7180"
      },
      "source": [
        "heads = random_num<0.5  #which of them can be heads..\n",
        "heads  #printing the array telling about the heads or tails.."
      ],
      "execution_count": 24,
      "outputs": [
        {
          "output_type": "execute_result",
          "data": {
            "text/plain": [
              "array([ True, False, False, False])"
            ]
          },
          "metadata": {
            "tags": []
          },
          "execution_count": 24
        }
      ]
    },
    {
      "cell_type": "code",
      "metadata": {
        "colab": {
          "base_uri": "https://localhost:8080/"
        },
        "id": "dn0GSqpNTaD1",
        "outputId": "41e3a989-6cee-426d-df04-b0651bb75cd1"
      },
      "source": [
        "np.sum(heads)  #How many heads can be there in four flips..\n",
        "#Python treats 1 as True and 0 as False.."
      ],
      "execution_count": 25,
      "outputs": [
        {
          "output_type": "execute_result",
          "data": {
            "text/plain": [
              "1"
            ]
          },
          "metadata": {
            "tags": []
          },
          "execution_count": 25
        }
      ]
    },
    {
      "cell_type": "markdown",
      "metadata": {
        "id": "_HomasIxbQz2"
      },
      "source": [
        "##**Binomial Distribution Mass Function**"
      ]
    },
    {
      "cell_type": "code",
      "metadata": {
        "colab": {
          "base_uri": "https://localhost:8080/"
        },
        "id": "GnJOrtyZTfBK",
        "outputId": "0b157a4e-9989-41bc-cd47-e8d6c3a8dbd3"
      },
      "source": [
        "np.random.binomial(4,0.5)"
      ],
      "execution_count": 26,
      "outputs": [
        {
          "output_type": "execute_result",
          "data": {
            "text/plain": [
              "1"
            ]
          },
          "metadata": {
            "tags": []
          },
          "execution_count": 26
        }
      ]
    },
    {
      "cell_type": "code",
      "metadata": {
        "colab": {
          "base_uri": "https://localhost:8080/"
        },
        "id": "2HEYmeoNbZXJ",
        "outputId": "7f18326f-3a3d-4175-d76a-ee77b9711d69"
      },
      "source": [
        "sample = np.random.binomial(60,0.1,size=10000)\n",
        "sample"
      ],
      "execution_count": 29,
      "outputs": [
        {
          "output_type": "execute_result",
          "data": {
            "text/plain": [
              "array([7, 5, 4, ..., 6, 8, 7])"
            ]
          },
          "metadata": {
            "tags": []
          },
          "execution_count": 29
        }
      ]
    },
    {
      "cell_type": "markdown",
      "metadata": {
        "id": "9Pnd7aVclHbU"
      },
      "source": [
        "##Poisson CDF"
      ]
    },
    {
      "cell_type": "code",
      "metadata": {
        "id": "KiI62WOgbhka"
      },
      "source": [
        "samples = np.random.poisson(6,size=10000)#use of poisson\n",
        "x,y = ecdf(samples)\n",
        "_ = plt.plot(x,y,marker='.',linestyle='none')\n",
        "plt.margins(0.02)\n",
        "_ = plt.xlabel(\"Number of success\")\n",
        "_ = plt.ylabel(\"CDF\")\n",
        "pkt.show()"
      ],
      "execution_count": 28,
      "outputs": []
    },
    {
      "cell_type": "markdown",
      "metadata": {
        "id": "_D50aofjqSPx"
      },
      "source": [
        "##**Checking Normality of Data**"
      ]
    },
    {
      "cell_type": "code",
      "metadata": {
        "id": "RNHtyF71k0g1"
      },
      "source": [
        "mean = np.mean(data_name)\n",
        "std = np.std(data_name)\n",
        "samples = np.random.normal(mean,std,size=10000)\n",
        "x,y = ecdf(data_name)\n",
        "x_theo,y_theo = ecdf(samples)\n",
        "\n",
        "plt.plot(x_theo,y_theo)\n",
        "plt.plot(x,y,marker='.',linestyle='none')\n",
        "plt.x_label(\"speed of light(km/s\")\n",
        "plt.y_label('CDF')\n",
        "plt.show()"
      ],
      "execution_count": null,
      "outputs": []
    },
    {
      "cell_type": "markdown",
      "metadata": {
        "id": "LZWRHN8hu68s"
      },
      "source": [
        "##**The Exponential Distribution**"
      ]
    },
    {
      "cell_type": "code",
      "metadata": {
        "id": "BfRUXarTvCyd"
      },
      "source": [
        "mean = np.mean(data_name)\n",
        "\n",
        "samples = np.random.exponential(mean,size=10000)\n",
        "x,y = ecdf(data_name)\n",
        "\n",
        "x_theo,y_theo = ecdf(samples)\n",
        "\n",
        "plt.plot(x_theo,y_theo)\n",
        "plt.plot(x,y,marker='.',linestyle='none')\n",
        "plt.x_label(\"time (days)\")\n",
        "plt.y_label('CDF')\n",
        "plt.show()"
      ],
      "execution_count": null,
      "outputs": []
    }
  ]
}